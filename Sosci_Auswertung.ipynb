{
 "cells": [
  {
   "cell_type": "code",
   "execution_count": null,
   "metadata": {
    "id": "hSYRpAFntdsr",
    "pycharm": {
     "is_executing": true
    }
   },
   "outputs": [],
   "source": [
    "import pandas as pd\n",
    "import numpy as np\n",
    "import seaborn as sns\n",
    "import re\n",
    "from matplotlib import pyplot as plt"
   ]
  },
  {
   "cell_type": "code",
   "execution_count": null,
   "metadata": {
    "id": "7lpfUc5Otg1v",
    "pycharm": {
     "is_executing": true
    }
   },
   "outputs": [],
   "source": [
    "df = pd.read_csv('data_hpo-method-validation_2023-01-30_14-43.csv', encoding=\"utf_16_le\", delimiter=\";\")"
   ]
  },
  {
   "cell_type": "markdown",
   "metadata": {
    "id": "QTrItV-jGl-G"
   },
   "source": [
    "# Quick Info"
   ]
  },
  {
   "cell_type": "code",
   "execution_count": null,
   "metadata": {
    "colab": {
     "base_uri": "https://localhost:8080/",
     "height": 282
    },
    "id": "9UuBgj5ZC4Wv",
    "outputId": "8c6c47cd-7166-486f-c628-26e79f40baa8",
    "pycharm": {
     "is_executing": true
    }
   },
   "outputs": [],
   "source": [
    "#visualize completeted pages\n",
    "maxpage = df[\"MAXPAGE\"]\n",
    "maxpage.iloc[1:].apply(pd.to_numeric).hist()"
   ]
  },
  {
   "cell_type": "markdown",
   "metadata": {
    "id": "HdVPQZsSHVcF"
   },
   "source": [
    "# Auswertung Goals & Methods"
   ]
  },
  {
   "cell_type": "code",
   "execution_count": null,
   "metadata": {
    "id": "sMGo--3WxIyi",
    "pycharm": {
     "is_executing": true
    }
   },
   "outputs": [],
   "source": [
    "#select only finished data set complete datasets\n",
    "df_finished = df.where((df[\"FINISHED\"] == \"1\")  | (df[\"FINISHED\" ]== \"Wurde die Befragung abgeschlossen (letzte Seite erreicht)?\")).dropna(subset=[\"FINISHED\"])"
   ]
  },
  {
   "cell_type": "code",
   "execution_count": null,
   "metadata": {
    "id": "g5liUPwHx5nw",
    "pycharm": {
     "is_executing": true
    }
   },
   "outputs": [],
   "source": [
    "# select only answers relating to the first question (Which of the following goals did you try to reach by using HPO?) \n",
    "df_go01=df_finished.filter(regex=(\"^GO01\"))\n",
    "\n",
    "# select only answers relating to the second question (Which of the following goals did you successfully attain by using HPO?)\n",
    "df_go02=df_finished.filter(regex=(\"^GO02\"))"
   ]
  },
  {
   "cell_type": "code",
   "execution_count": null,
   "metadata": {
    "colab": {
     "base_uri": "https://localhost:8080/",
     "height": 473
    },
    "id": "QJszR3o9JM9c",
    "outputId": "0b0cf768-f07f-4005-fe6d-1c2f7ee3b30a",
    "pycharm": {
     "is_executing": true
    }
   },
   "outputs": [],
   "source": [
    "df_go01.head()"
   ]
  },
  {
   "cell_type": "markdown",
   "metadata": {
    "id": "8D0szvNQIuSj"
   },
   "source": [
    "## Teilnehmer Heatmap"
   ]
  },
  {
   "cell_type": "code",
   "execution_count": null,
   "metadata": {
    "id": "Atac0dNvjdh3",
    "pycharm": {
     "is_executing": true
    }
   },
   "outputs": [],
   "source": [
    "# create data frame summarizing all answers to the GD01 listing methods, goal, participant id and selection\n",
    "\n",
    "goal_method = []\n",
    "for index, column in enumerate(df_go01.columns):\n",
    "  \n",
    "  row = {}\n",
    "  \n",
    "  #extract the method\n",
    "  item_description = df_go01[column][0]\n",
    "  method = re.findall(\"([^/]+$)\", item_description)[0]\n",
    "  goal = re.findall(\":\\s(.*):\", item_description)[0]\n",
    "  value = df_go01[column].drop(0).apply(lambda x: 1 if x=='ausgewählt' else 0) \n",
    "\n",
    "\n",
    "\n",
    "  if index%6 == 0:\n",
    "    method = \"I did not try to reach the goal\"\n",
    "    goal = re.search(\":\\s(.*):\\s(.*):\", item_description)\n",
    "    goal = goal.group(2)\n",
    "    value = df_go01[column].drop(0).apply(lambda x: 1 if x== r'I did not try to reach this goal.' else 0)\n",
    "\n",
    "\n",
    "\n",
    "  for entry in value.iteritems():\n",
    "    row={\"method\": method, \"goal\": goal, \"participant\": entry[0], \"selection\": entry[1]}\n",
    "    goal_method.append(row)\n",
    "\n",
    "df_goal_method = pd.DataFrame(goal_method)"
   ]
  },
  {
   "cell_type": "code",
   "execution_count": null,
   "metadata": {
    "colab": {
     "base_uri": "https://localhost:8080/",
     "height": 206
    },
    "id": "FhMkOqA9IPOI",
    "outputId": "be3f95f6-92da-4201-c9ec-8965c3b09f9f",
    "pycharm": {
     "is_executing": true
    }
   },
   "outputs": [],
   "source": [
    "df_goal_method.head()"
   ]
  },
  {
   "cell_type": "code",
   "execution_count": null,
   "metadata": {
    "colab": {
     "base_uri": "https://localhost:8080/",
     "height": 1000
    },
    "id": "q45RpGL8ng5I",
    "outputId": "368f5f9e-96f0-4bf2-a5c2-8668d8f0bcdc",
    "pycharm": {
     "is_executing": true
    }
   },
   "outputs": [],
   "source": [
    "#plot heatmaps on participant level\n",
    "for participant in df_goal_method.participant.unique():\n",
    "  participant_heatmap = df_goal_method.loc[df_goal_method.participant==participant].pivot(index='method', columns='goal', values='selection')\n",
    "  #plt.figure()\n",
    "  sns.heatmap(participant_heatmap, annot=True)  \n",
    "  plt.show()"
   ]
  },
  {
   "cell_type": "markdown",
   "metadata": {
    "id": "S6PvfWabIlkV"
   },
   "source": [
    "## Gesamt Heatmap"
   ]
  },
  {
   "cell_type": "code",
   "execution_count": null,
   "metadata": {
    "id": "Pn9bHMPBmo_n",
    "pycharm": {
     "is_executing": true
    }
   },
   "outputs": [],
   "source": [
    "# define method to create heatmap counting all occurences of method combinations\n",
    "\n",
    "def create_2d_matrix(df):\n",
    "\n",
    "  heatmap = []\n",
    "\n",
    "  for index, column in enumerate(df.columns):\n",
    "\n",
    "    row = {}\n",
    "    \n",
    "    #extract the method\n",
    "    item_description = df[column][0]\n",
    "    method = re.findall(\"([^/]+$)\", item_description)[0]\n",
    "    goal = re.findall(\":\\s(.*):\", item_description)[0]\n",
    "\n",
    "    count = df[column].str.contains(r'ausgewählt').sum()\n",
    "\n",
    "\n",
    "    if index%6 == 0:\n",
    "      method = \"I did not try to reach the goal\"\n",
    "      goal = re.search(\":\\s(.*):\\s(.*):\", item_description)\n",
    "      goal = goal.group(2)\n",
    "      count = df[column].str.contains(r'I did not try to reach this goal.').sum()\n",
    "\n",
    "\n",
    "    row={\"method\": method, \"goal\": goal, \"count\": count}\n",
    "\n",
    "\n",
    "    heatmap.append(row)\n",
    "\n",
    "  df_heatmap = pd.DataFrame(heatmap)\n",
    "\n",
    "\n",
    "  return df_heatmap.pivot(index='method', columns='goal', values='count')\n"
   ]
  },
  {
   "cell_type": "markdown",
   "metadata": {
    "id": "q94DeEiBJSKa"
   },
   "source": [
    "### Try"
   ]
  },
  {
   "cell_type": "code",
   "execution_count": null,
   "metadata": {
    "colab": {
     "base_uri": "https://localhost:8080/",
     "height": 461
    },
    "id": "tQ67z-DJLcYD",
    "outputId": "bf901ca8-734a-4bde-b50b-be66263dbf81",
    "pycharm": {
     "is_executing": true
    }
   },
   "outputs": [],
   "source": [
    "sns.heatmap(create_2d_matrix(df_go01), annot=True)"
   ]
  },
  {
   "cell_type": "markdown",
   "metadata": {
    "id": "fJmxor2uJWqV"
   },
   "source": [
    "### Successful"
   ]
  },
  {
   "cell_type": "code",
   "execution_count": null,
   "metadata": {
    "colab": {
     "base_uri": "https://localhost:8080/",
     "height": 465
    },
    "id": "VvlwFom-oFw8",
    "outputId": "47fbf5b0-931d-45b2-e14f-a97b354c536f",
    "pycharm": {
     "is_executing": true
    }
   },
   "outputs": [],
   "source": [
    "sns.heatmap(create_2d_matrix(df_go02), annot=True) "
   ]
  },
  {
   "cell_type": "markdown",
   "metadata": {
    "id": "RR9g8K8pq-SW"
   },
   "source": [
    "# Correcting implausible answers"
   ]
  },
  {
   "cell_type": "code",
   "execution_count": null,
   "metadata": {
    "id": "9dvtSZRwrrrc",
    "pycharm": {
     "is_executing": true
    }
   },
   "outputs": [],
   "source": [
    "heatmap_pivot = create_2d_matrix(df_go01)\n",
    "heatmap_pivot_successful = create_2d_matrix(df_go02) "
   ]
  },
  {
   "cell_type": "code",
   "execution_count": null,
   "metadata": {
    "colab": {
     "base_uri": "https://localhost:8080/",
     "height": 364
    },
    "id": "ZVfXGsVfpCgj",
    "outputId": "618edaff-8eb1-4728-93cd-65305d527089",
    "pycharm": {
     "is_executing": true
    }
   },
   "outputs": [],
   "source": [
    "#problem negative values, because go02 is not automatically set to 0 when go01 is disselected\n",
    "heatmap_pivot.subtract(heatmap_pivot_successful)"
   ]
  },
  {
   "cell_type": "code",
   "execution_count": null,
   "metadata": {
    "id": "AocilZb09Ujb",
    "pycharm": {
     "is_executing": true
    }
   },
   "outputs": [],
   "source": [
    "tried=df_go01.where(df_go01==\"ausgewählt\").replace({'ausgewählt': 1})\n",
    "tried=tried.fillna(0)\n",
    "success=df_go02.where(df_go02==\"ausgewählt\").replace({'ausgewählt': 1})\n",
    "success=success.fillna(0)"
   ]
  },
  {
   "cell_type": "code",
   "execution_count": null,
   "metadata": {
    "colab": {
     "base_uri": "https://localhost:8080/",
     "height": 299
    },
    "id": "hKtN7n304ToF",
    "outputId": "732398c5-dc9b-47c1-eccc-9a0dbb4ca289",
    "pycharm": {
     "is_executing": true
    }
   },
   "outputs": [],
   "source": [
    "tried.head()"
   ]
  },
  {
   "cell_type": "code",
   "execution_count": null,
   "metadata": {
    "colab": {
     "base_uri": "https://localhost:8080/"
    },
    "id": "PAgSbGwoGCyp",
    "outputId": "191367c8-f853-4fca-a59a-208b0a70877b",
    "pycharm": {
     "is_executing": true
    }
   },
   "outputs": [],
   "source": [
    "#check for unplausible results in which successful is selected but tried is not\n",
    "res=(tried-success.values)\n",
    "is_negative = (res < 0).any(axis=1)\n",
    "is_negative[is_negative == True].index"
   ]
  },
  {
   "cell_type": "markdown",
   "metadata": {
    "id": "uYR3Xf9gNoNv"
   },
   "source": [
    "[16,43,84] werden aussortiert in den Successful Quoten berechnungen. Alternativ könnte man auch die einzelnen Antworten korriegieren"
   ]
  },
  {
   "cell_type": "code",
   "execution_count": null,
   "metadata": {
    "id": "IA40tmYCAdLv",
    "pycharm": {
     "is_executing": true
    }
   },
   "outputs": [],
   "source": [
    "df_go01_clean = df_go01.drop([16,43,84])"
   ]
  },
  {
   "cell_type": "code",
   "execution_count": null,
   "metadata": {
    "id": "yWViBlUW_tqZ",
    "pycharm": {
     "is_executing": true
    }
   },
   "outputs": [],
   "source": [
    "df_go02_clean = df_go02.drop([16,43,84])"
   ]
  },
  {
   "cell_type": "code",
   "execution_count": null,
   "metadata": {
    "colab": {
     "base_uri": "https://localhost:8080/",
     "height": 415
    },
    "id": "NmMmw3kD_cel",
    "outputId": "7cb562f7-ac1d-4542-811f-8b4e877f481e",
    "pycharm": {
     "is_executing": true
    }
   },
   "outputs": [],
   "source": [
    "(create_2d_matrix(df_go02_clean).sum(axis=1)/create_2d_matrix(df_go01_clean).sum(axis=1)).drop('I did not try to reach the goal').plot(kind='bar', title='Percentage of self perceived successfully attained Goal')"
   ]
  },
  {
   "cell_type": "code",
   "execution_count": null,
   "metadata": {
    "id": "4XRIVpKPWWZY",
    "pycharm": {
     "is_executing": true
    }
   },
   "outputs": [],
   "source": [
    "seaborn_success=(create_2d_matrix(df_go02_clean).sum(axis=1)/create_2d_matrix(df_go01_clean).sum(axis=1)).drop('I did not try to reach the goal').copy()"
   ]
  },
  {
   "cell_type": "code",
   "execution_count": null,
   "metadata": {
    "colab": {
     "base_uri": "https://localhost:8080/",
     "height": 337
    },
    "id": "_HV7nKL7Wswb",
    "outputId": "16e99335-8a9b-45bb-86da-bb2f00e7aa42",
    "pycharm": {
     "is_executing": true
    }
   },
   "outputs": [],
   "source": [
    "sns.barplot(seaborn_success.values, seaborn_success.index)"
   ]
  },
  {
   "cell_type": "code",
   "execution_count": null,
   "metadata": {
    "colab": {
     "base_uri": "https://localhost:8080/",
     "height": 465
    },
    "id": "Nbz5RFYAXN7Z",
    "outputId": "30179647-7e11-4e9c-9d0f-2925b24d56de",
    "pycharm": {
     "is_executing": true
    }
   },
   "outputs": [],
   "source": [
    "#Successrate filtered\n",
    "sns.heatmap(((create_2d_matrix(df_go02_clean))/(create_2d_matrix(df_go01_clean))).drop('I did not try to reach the goal'), annot=True)"
   ]
  },
  {
   "cell_type": "code",
   "execution_count": null,
   "metadata": {
    "colab": {
     "base_uri": "https://localhost:8080/",
     "height": 461
    },
    "id": "beQa8ZmLbOYo",
    "outputId": "cb945ce3-14ae-47c7-d5c7-b7faa3ad6665",
    "pycharm": {
     "is_executing": true
    }
   },
   "outputs": [],
   "source": [
    "#Successrate unfiltered\n",
    "sns.heatmap(((create_2d_matrix(df_go02))/(create_2d_matrix(df_go01))).drop('I did not try to reach the goal'), annot=True)"
   ]
  },
  {
   "cell_type": "code",
   "execution_count": null,
   "metadata": {
    "colab": {
     "base_uri": "https://localhost:8080/",
     "height": 461
    },
    "id": "kbSh87O6atJS",
    "outputId": "75992572-ee83-4f75-95cf-0e3f1bdaff09",
    "pycharm": {
     "is_executing": true
    }
   },
   "outputs": [],
   "source": [
    "#absolute filtered heatmap\n",
    "sns.heatmap(create_2d_matrix(df_go01_clean), annot=True)"
   ]
  },
  {
   "cell_type": "markdown",
   "metadata": {
    "id": "JXh8I7dZy29x"
   },
   "source": [
    "# Data From unfinished questionaires\n",
    "\n",
    "Plot Data from participants who only answered part of the questionaire. No filtering from implausible answers"
   ]
  },
  {
   "cell_type": "markdown",
   "metadata": {
    "id": "GC4A5KcwL-pN"
   },
   "source": [
    "## Maxpage 3"
   ]
  },
  {
   "cell_type": "code",
   "execution_count": null,
   "metadata": {
    "id": "C_wIFJbVJrO8",
    "pycharm": {
     "is_executing": true
    }
   },
   "outputs": [],
   "source": [
    "#select participants with maxpage 3 (the last entry is there to ensure automatic method extraction)\n",
    "df_maxpage_3=df.where((df['MAXPAGE']=='3') | (df['MAXPAGE']== 'Letzte Seite, die im Fragebogen bearbeitet wurde')).dropna(subset=['MAXPAGE'])"
   ]
  },
  {
   "cell_type": "code",
   "execution_count": null,
   "metadata": {
    "id": "9guEXdGy0FFz",
    "pycharm": {
     "is_executing": true
    }
   },
   "outputs": [],
   "source": [
    "df_maxpage_3_go01=df_maxpage_3.filter(regex=(\"^GO01\"))\n",
    "df_maxpage_3_go02=df_maxpage_3.filter(regex=(\"^GO02\"))"
   ]
  },
  {
   "cell_type": "code",
   "execution_count": null,
   "metadata": {
    "colab": {
     "base_uri": "https://localhost:8080/",
     "height": 465
    },
    "id": "oGZg5nAr03Bo",
    "outputId": "22227e89-03c0-4192-9aca-d36c8adc2674",
    "pycharm": {
     "is_executing": true
    }
   },
   "outputs": [],
   "source": [
    "sns.heatmap(create_2d_matrix(df_maxpage_3_go01), annot=True) "
   ]
  },
  {
   "cell_type": "code",
   "execution_count": null,
   "metadata": {
    "colab": {
     "base_uri": "https://localhost:8080/",
     "height": 465
    },
    "id": "VFw94OZk0221",
    "outputId": "48d83cfa-cf0d-417c-bacb-ff74fae404e9",
    "pycharm": {
     "is_executing": true
    }
   },
   "outputs": [],
   "source": [
    "sns.heatmap(create_2d_matrix(df_maxpage_3_go02), annot=True) "
   ]
  },
  {
   "cell_type": "markdown",
   "metadata": {
    "id": "jInf4KXdL7sr"
   },
   "source": [
    "## Maxpage 4"
   ]
  },
  {
   "cell_type": "code",
   "execution_count": null,
   "metadata": {
    "id": "W1-OzMsIy1DR",
    "pycharm": {
     "is_executing": true
    }
   },
   "outputs": [],
   "source": [
    "df_maxpage_4=df.where((df['MAXPAGE']=='4') | (df['MAXPAGE']== 'Letzte Seite, die im Fragebogen bearbeitet wurde')).dropna(subset=['MAXPAGE'])"
   ]
  },
  {
   "cell_type": "code",
   "execution_count": null,
   "metadata": {
    "id": "J_iKbp2g0IVe",
    "pycharm": {
     "is_executing": true
    }
   },
   "outputs": [],
   "source": [
    "df_maxpage_4_go01=df_maxpage_4.filter(regex=(\"^GO01\"))\n",
    "df_maxpage_4_go02=df_maxpage_4.filter(regex=(\"^GO02\"))"
   ]
  },
  {
   "cell_type": "code",
   "execution_count": null,
   "metadata": {
    "colab": {
     "base_uri": "https://localhost:8080/",
     "height": 465
    },
    "id": "J28MuOaK2P2t",
    "outputId": "230cf1aa-d61d-4e70-8753-6c5cb5cc5edb",
    "pycharm": {
     "is_executing": true
    }
   },
   "outputs": [],
   "source": [
    "sns.heatmap(create_2d_matrix(df_maxpage_4_go01), annot=True) "
   ]
  },
  {
   "cell_type": "code",
   "execution_count": null,
   "metadata": {
    "colab": {
     "base_uri": "https://localhost:8080/",
     "height": 465
    },
    "id": "aVz_gD2D2UH1",
    "outputId": "e9ab5202-888a-4086-bda5-e798ff3b0057",
    "pycharm": {
     "is_executing": true
    }
   },
   "outputs": [],
   "source": [
    "sns.heatmap(create_2d_matrix(df_maxpage_4_go02), annot=True) "
   ]
  },
  {
   "cell_type": "markdown",
   "metadata": {
    "id": "7iU7IfQgMC1g"
   },
   "source": [
    "## All Data"
   ]
  },
  {
   "cell_type": "code",
   "execution_count": null,
   "metadata": {
    "id": "cEtAsrZ92uQz",
    "pycharm": {
     "is_executing": true
    }
   },
   "outputs": [],
   "source": [
    "df_all=df.where((df['MAXPAGE']=='3')| (df['MAXPAGE']=='4') | (df['MAXPAGE']=='5') | (df['MAXPAGE']== 'Letzte Seite, die im Fragebogen bearbeitet wurde')).dropna(subset=['MAXPAGE'])"
   ]
  },
  {
   "cell_type": "code",
   "execution_count": null,
   "metadata": {
    "id": "qt5C_rWH2uIZ",
    "pycharm": {
     "is_executing": true
    }
   },
   "outputs": [],
   "source": [
    "df_all_go01=df_all.filter(regex=(\"^GO01\"))\n",
    "df_all_go02=df_all.filter(regex=(\"^GO02\"))"
   ]
  },
  {
   "cell_type": "code",
   "execution_count": null,
   "metadata": {
    "colab": {
     "base_uri": "https://localhost:8080/",
     "height": 461
    },
    "id": "AzFuGq7Z3cYo",
    "outputId": "209b016d-7c3a-4c09-9a3a-6d969dae8f29",
    "pycharm": {
     "is_executing": true
    }
   },
   "outputs": [],
   "source": [
    "sns.heatmap(create_2d_matrix(df_all_go01), annot=True) "
   ]
  },
  {
   "cell_type": "code",
   "execution_count": null,
   "metadata": {
    "colab": {
     "base_uri": "https://localhost:8080/",
     "height": 461
    },
    "id": "isYQTe8n3cp8",
    "outputId": "90e98322-0587-4a00-8e14-dc435f403b67",
    "pycharm": {
     "is_executing": true
    }
   },
   "outputs": [],
   "source": [
    "sns.heatmap(create_2d_matrix(df_all_go02), annot=True) "
   ]
  },
  {
   "cell_type": "code",
   "execution_count": null,
   "metadata": {
    "colab": {
     "base_uri": "https://localhost:8080/",
     "height": 337
    },
    "id": "gtU4YzHN-Nfq",
    "outputId": "6a1d7b15-1124-4ffc-9234-b90caad32d5f",
    "pycharm": {
     "is_executing": true
    }
   },
   "outputs": [],
   "source": [
    "#because not all participants answered question go01 the successrate differs from the one calculated above\n",
    "all_success = (create_2d_matrix(df_all_go02).sum(axis=1)/create_2d_matrix(df_all_go01).sum(axis=1))\n",
    "sns.barplot(all_success.values, all_success.index)"
   ]
  },
  {
   "cell_type": "markdown",
   "metadata": {
    "id": "lYq6wSnmHTwF"
   },
   "source": [
    "# Decision Factors\n"
   ]
  },
  {
   "cell_type": "code",
   "execution_count": null,
   "metadata": {
    "id": "szIQUnz8JDN3",
    "pycharm": {
     "is_executing": true
    }
   },
   "outputs": [],
   "source": [
    "map = {'I did not consider this decision factor.': np.NaN ,'Very Low': 1, 'Low': 2, 'Neutral': 3, 'High': 4, 'Very High': 5}"
   ]
  },
  {
   "cell_type": "code",
   "execution_count": null,
   "metadata": {
    "id": "gPYBr4zRL9xy",
    "pycharm": {
     "is_executing": true
    }
   },
   "outputs": [],
   "source": [
    "df_decision_factors = df_finished.replace(map)"
   ]
  },
  {
   "cell_type": "code",
   "execution_count": null,
   "metadata": {
    "colab": {
     "base_uri": "https://localhost:8080/",
     "height": 357
    },
    "id": "RX7-HDcjVbRN",
    "outputId": "36704bf4-0464-4be6-a021-1cb5570b929e",
    "pycharm": {
     "is_executing": true
    }
   },
   "outputs": [],
   "source": [
    "df_decision_factors.filter(regex=(\"^GD01\")).dropna(how='all')"
   ]
  },
  {
   "cell_type": "markdown",
   "metadata": {
    "id": "qMDlapU9QMHL"
   },
   "source": [
    "**Decision Factor Frage 23 nicht gestellt worden anscheinend** auch nur 3 mal gewählt worden"
   ]
  },
  {
   "cell_type": "code",
   "execution_count": null,
   "metadata": {
    "id": "4KpRkipZIbl-",
    "pycharm": {
     "is_executing": true
    }
   },
   "outputs": [],
   "source": [
    "rows=[]\n",
    "for i in range(1,25):\n",
    "  \n",
    "  #23 nicht gestellt worden, zumindest nicht in den variablen enthalten\n",
    "  if i==23:\n",
    "    continue\n",
    "\n",
    "  entry={}  \n",
    "\n",
    "  for j in range(1,15):\n",
    "\n",
    "    #to do: use the same filtered df\n",
    "\n",
    "    goal_method_df = df_decision_factors.filter(regex=(f\"^GD{i:02d}\")).dropna(how='all')\n",
    "    description_string = goal_method_df.filter(regex=(f\"_{j:02d}\")).iloc[0,:].values[0]\n",
    "\n",
    "\n",
    "    factor_df = goal_method_df.drop(0).filter(regex=(f\"_{j:02d}\"))\n",
    "    participant_array = factor_df.index\n",
    "    value_array = factor_df.values\n",
    "\n",
    "    question = re.findall(\"([^/]+):\", description_string)[0]\n",
    "    decision_factor = re.findall(\": ([^/]+) \\(\\(\", description_string)[0]\n",
    "\n",
    "    for index, value in enumerate(value_array):\n",
    "    \n",
    "      entry={'Question': question, 'Decision Factor': decision_factor, \"Value\": float(value), \"Participant\": int(participant_array[index])}\n",
    "      rows.append(entry)\n",
    "\n",
    "decision_factor_results = pd.DataFrame(rows)      "
   ]
  },
  {
   "cell_type": "code",
   "execution_count": null,
   "metadata": {
    "colab": {
     "base_uri": "https://localhost:8080/",
     "height": 206
    },
    "id": "DDK-RDgJP5WQ",
    "outputId": "bd049353-36fe-4257-9aa7-9442d29f099d",
    "pycharm": {
     "is_executing": true
    }
   },
   "outputs": [],
   "source": [
    "decision_factor_results.head()"
   ]
  },
  {
   "cell_type": "markdown",
   "metadata": {
    "id": "8MlFVWccQhOK"
   },
   "source": [
    "## Percentage I did not consider this decision factor.\n"
   ]
  },
  {
   "cell_type": "code",
   "execution_count": null,
   "metadata": {
    "id": "LdQ-w6hq2yL4",
    "pycharm": {
     "is_executing": true
    }
   },
   "outputs": [],
   "source": [
    "nan_decision=decision_factor_results.groupby('Decision Factor')['Value'].apply(lambda _df: _df.isna().sum())\n",
    "count_decision=decision_factor_results.groupby('Decision Factor')['Value'].count()\n",
    "combined=count_decision.add(nan_decision)\n",
    "percentag_nan=(nan_decision/combined)"
   ]
  },
  {
   "cell_type": "code",
   "execution_count": null,
   "metadata": {
    "colab": {
     "base_uri": "https://localhost:8080/",
     "height": 337
    },
    "id": "P8uVJywA1SSW",
    "outputId": "ac1ca017-9feb-41ba-c3e7-bfe902da86e1",
    "pycharm": {
     "is_executing": true
    }
   },
   "outputs": [],
   "source": [
    "sns.barplot(percentag_nan.values, percentag_nan.index)"
   ]
  },
  {
   "cell_type": "markdown",
   "metadata": {
    "id": "a1VQWnzaQxR9"
   },
   "source": [
    "## Average importance"
   ]
  },
  {
   "cell_type": "code",
   "execution_count": null,
   "metadata": {
    "colab": {
     "base_uri": "https://localhost:8080/",
     "height": 456
    },
    "id": "S7nHBka7ciOo",
    "outputId": "4470f3f2-ead5-4d41-f9f4-121bec1a2f2d",
    "pycharm": {
     "is_executing": true
    }
   },
   "outputs": [],
   "source": [
    "decision_factor_results.groupby([\"Decision Factor\"]).mean().sort_values('Value')['Value'].plot(kind='bar')"
   ]
  },
  {
   "cell_type": "code",
   "execution_count": null,
   "metadata": {
    "colab": {
     "base_uri": "https://localhost:8080/",
     "height": 174
    },
    "id": "-HlC1JVRbSnM",
    "outputId": "d89ff958-a4e1-43d7-c139-281deb4594f8",
    "pycharm": {
     "is_executing": true
    }
   },
   "outputs": [],
   "source": [
    "decision_factor_results.groupby([\"Decision Factor\"]).mean().nlargest(3,'Value')"
   ]
  },
  {
   "cell_type": "code",
   "execution_count": null,
   "metadata": {
    "colab": {
     "base_uri": "https://localhost:8080/",
     "height": 174
    },
    "id": "DuqFIL6CbSdr",
    "outputId": "a23814cd-29ea-4fb6-ad75-46d2b9525a8d",
    "pycharm": {
     "is_executing": true
    }
   },
   "outputs": [],
   "source": [
    "decision_factor_results.groupby([\"Decision Factor\"]).mean().nsmallest(3,'Value')"
   ]
  },
  {
   "cell_type": "code",
   "execution_count": null,
   "metadata": {
    "colab": {
     "base_uri": "https://localhost:8080/",
     "height": 514
    },
    "id": "hoVC2Vspci1Q",
    "outputId": "d728f4a0-9861-47e3-d313-9cedd53e814c",
    "pycharm": {
     "is_executing": true
    }
   },
   "outputs": [],
   "source": [
    "plt.figure(figsize=(15,8))\n",
    "sns.boxplot(data=decision_factor_results, x=\"Value\", y=\"Decision Factor\")"
   ]
  },
  {
   "cell_type": "code",
   "execution_count": null,
   "metadata": {
    "colab": {
     "base_uri": "https://localhost:8080/",
     "height": 305
    },
    "id": "SARU4sQ6trxc",
    "outputId": "afab98bb-7b1e-42dc-f085-5fb6a4857e31",
    "pycharm": {
     "is_executing": true
    }
   },
   "outputs": [],
   "source": [
    "decision_factor_results.groupby(['Participant']).mean().plot(kind='bar')"
   ]
  },
  {
   "cell_type": "code",
   "execution_count": null,
   "metadata": {
    "colab": {
     "base_uri": "https://localhost:8080/",
     "height": 344
    },
    "id": "Kdlb0eLdgPCr",
    "outputId": "9eba66d3-8b81-413c-d328-1fcaf18cd784",
    "pycharm": {
     "is_executing": true
    }
   },
   "outputs": [],
   "source": [
    "decision_factor_results.groupby([\"Question\"]).mean()['Value'].plot(kind='bar')"
   ]
  },
  {
   "cell_type": "markdown",
   "metadata": {
    "id": "lylB1gDe649M"
   },
   "source": [
    "## Manual Tuning"
   ]
  },
  {
   "cell_type": "code",
   "execution_count": null,
   "metadata": {
    "id": "fWprQrihjGuT",
    "pycharm": {
     "is_executing": true
    }
   },
   "outputs": [],
   "source": [
    "mt_decision_factors=decision_factor_results[decision_factor_results.Question.str.startswith('MT')]"
   ]
  },
  {
   "cell_type": "code",
   "execution_count": null,
   "metadata": {
    "colab": {
     "base_uri": "https://localhost:8080/"
    },
    "id": "nz5B6QQb8x8M",
    "outputId": "b6f4be63-601f-407c-f4b0-ec3c9176246c",
    "pycharm": {
     "is_executing": true
    }
   },
   "outputs": [],
   "source": [
    "len(mt_decision_factors)"
   ]
  },
  {
   "cell_type": "code",
   "execution_count": null,
   "metadata": {
    "colab": {
     "base_uri": "https://localhost:8080/",
     "height": 456
    },
    "id": "A_zSSrBN6vkf",
    "outputId": "81c6416a-5a3e-4751-d8dc-9fd3be61991c",
    "pycharm": {
     "is_executing": true
    }
   },
   "outputs": [],
   "source": [
    "mt_decision_factors.groupby([\"Decision Factor\"]).mean()['Value'].plot(kind='bar')"
   ]
  },
  {
   "cell_type": "code",
   "execution_count": null,
   "metadata": {
    "colab": {
     "base_uri": "https://localhost:8080/"
    },
    "id": "Bfx3i4wW7uWY",
    "outputId": "f2b9106b-64e5-4635-fa62-41e605d54cc1",
    "pycharm": {
     "is_executing": true
    }
   },
   "outputs": [],
   "source": [
    "mt_decision_factors.groupby([\"Decision Factor\"]).mean().nlargest(3,'Value').index"
   ]
  },
  {
   "cell_type": "code",
   "execution_count": null,
   "metadata": {
    "colab": {
     "base_uri": "https://localhost:8080/",
     "height": 174
    },
    "id": "2jQJAE9qak81",
    "outputId": "6dd66012-f736-4711-9770-ae9fe9ae0448",
    "pycharm": {
     "is_executing": true
    }
   },
   "outputs": [],
   "source": [
    "mt_decision_factors.groupby([\"Decision Factor\"]).mean().nsmallest(3,'Value')"
   ]
  },
  {
   "cell_type": "markdown",
   "metadata": {
    "id": "3glHhzgJ6-Lg"
   },
   "source": [
    "## Bayesian optimization"
   ]
  },
  {
   "cell_type": "code",
   "execution_count": null,
   "metadata": {
    "id": "r2gKesmc690Y",
    "pycharm": {
     "is_executing": true
    }
   },
   "outputs": [],
   "source": [
    "bo_decision_factors=decision_factor_results[decision_factor_results.Question.str.startswith('BO')]"
   ]
  },
  {
   "cell_type": "code",
   "execution_count": null,
   "metadata": {
    "colab": {
     "base_uri": "https://localhost:8080/"
    },
    "id": "c-0r1rbW8u4C",
    "outputId": "6a8b655b-db91-4d0e-93aa-50c487e82c54",
    "pycharm": {
     "is_executing": true
    }
   },
   "outputs": [],
   "source": [
    "len(bo_decision_factors)"
   ]
  },
  {
   "cell_type": "code",
   "execution_count": null,
   "metadata": {
    "colab": {
     "base_uri": "https://localhost:8080/",
     "height": 456
    },
    "id": "TsOfPVq_69w_",
    "outputId": "e3e6906e-2fdd-4767-ce03-e990aaa83c91",
    "pycharm": {
     "is_executing": true
    }
   },
   "outputs": [],
   "source": [
    "bo_decision_factors.groupby([\"Decision Factor\"]).mean()['Value'].plot(kind='bar')"
   ]
  },
  {
   "cell_type": "code",
   "execution_count": null,
   "metadata": {
    "colab": {
     "base_uri": "https://localhost:8080/",
     "height": 174
    },
    "id": "mcyoE6ho69ff",
    "outputId": "d78e10ef-0e87-40e8-a1f9-a0fe16772b56",
    "pycharm": {
     "is_executing": true
    }
   },
   "outputs": [],
   "source": [
    "bo_decision_factors.groupby([\"Decision Factor\"]).mean().nlargest(3,'Value')"
   ]
  },
  {
   "cell_type": "code",
   "execution_count": null,
   "metadata": {
    "colab": {
     "base_uri": "https://localhost:8080/",
     "height": 174
    },
    "id": "b5U7isdRaVPL",
    "outputId": "5631809d-1397-4c3c-e523-8001eff72644",
    "pycharm": {
     "is_executing": true
    }
   },
   "outputs": [],
   "source": [
    "bo_decision_factors.groupby([\"Decision Factor\"]).mean().nsmallest(3,'Value')"
   ]
  },
  {
   "cell_type": "markdown",
   "metadata": {
    "id": "gAA5pa1s7-Qp"
   },
   "source": [
    "## Grid Search"
   ]
  },
  {
   "cell_type": "code",
   "execution_count": null,
   "metadata": {
    "id": "rCjFof9t73y2",
    "pycharm": {
     "is_executing": true
    }
   },
   "outputs": [],
   "source": [
    "gs_decision_factors=decision_factor_results[decision_factor_results.Question.str.startswith('GS')]"
   ]
  },
  {
   "cell_type": "code",
   "execution_count": null,
   "metadata": {
    "colab": {
     "base_uri": "https://localhost:8080/"
    },
    "id": "DxUsdXEb8rSo",
    "outputId": "e1d245a4-2839-455d-af35-47e46f976dfd",
    "pycharm": {
     "is_executing": true
    }
   },
   "outputs": [],
   "source": [
    "len(gs_decision_factors)"
   ]
  },
  {
   "cell_type": "code",
   "execution_count": null,
   "metadata": {
    "colab": {
     "base_uri": "https://localhost:8080/",
     "height": 456
    },
    "id": "Z0QRmN3L73ue",
    "outputId": "beed1270-bdc2-4b26-e82b-26cbecbac32c",
    "pycharm": {
     "is_executing": true
    }
   },
   "outputs": [],
   "source": [
    "gs_decision_factors.groupby([\"Decision Factor\"]).mean()['Value'].plot(kind='bar')"
   ]
  },
  {
   "cell_type": "code",
   "execution_count": null,
   "metadata": {
    "colab": {
     "base_uri": "https://localhost:8080/"
    },
    "id": "nNOPnW2c73im",
    "outputId": "66ea647b-c8b6-4b4e-9c9b-acf8590bcbb7",
    "pycharm": {
     "is_executing": true
    }
   },
   "outputs": [],
   "source": [
    "gs_decision_factors.groupby([\"Decision Factor\"]).mean().nlargest(3,'Value').index"
   ]
  },
  {
   "cell_type": "code",
   "execution_count": null,
   "metadata": {
    "colab": {
     "base_uri": "https://localhost:8080/",
     "height": 174
    },
    "id": "h_HTDY9lZtFh",
    "outputId": "9a825b07-892a-49da-b146-b2ed6e8f30b4",
    "pycharm": {
     "is_executing": true
    }
   },
   "outputs": [],
   "source": [
    "gs_decision_factors.groupby([\"Decision Factor\"]).mean().nsmallest(3,'Value')"
   ]
  },
  {
   "cell_type": "markdown",
   "metadata": {
    "id": "l15wXEd38Bl8"
   },
   "source": [
    "## Random Search"
   ]
  },
  {
   "cell_type": "code",
   "execution_count": null,
   "metadata": {
    "id": "_imMdtqP8BJM",
    "pycharm": {
     "is_executing": true
    }
   },
   "outputs": [],
   "source": [
    "rs_decision_factors=decision_factor_results[decision_factor_results.Question.str.startswith('RS')]"
   ]
  },
  {
   "cell_type": "code",
   "execution_count": null,
   "metadata": {
    "colab": {
     "base_uri": "https://localhost:8080/"
    },
    "id": "5eLaUmL18nLl",
    "outputId": "113a9eb4-b130-4c4e-fca7-12ca337e48c2",
    "pycharm": {
     "is_executing": true
    }
   },
   "outputs": [],
   "source": [
    "len(rs_decision_factors)"
   ]
  },
  {
   "cell_type": "code",
   "execution_count": null,
   "metadata": {
    "colab": {
     "base_uri": "https://localhost:8080/",
     "height": 456
    },
    "id": "4fM6yKCF73Wl",
    "outputId": "93dc12d4-184d-4c8c-be4c-47ddc08fb139",
    "pycharm": {
     "is_executing": true
    }
   },
   "outputs": [],
   "source": [
    "rs_decision_factors.groupby([\"Decision Factor\"]).mean()['Value'].plot(kind='bar')"
   ]
  },
  {
   "cell_type": "code",
   "execution_count": null,
   "metadata": {
    "colab": {
     "base_uri": "https://localhost:8080/"
    },
    "id": "WsSINk8D8UMw",
    "outputId": "86df3dfe-8c14-4353-b30d-aa5e1e2b68ea",
    "pycharm": {
     "is_executing": true
    }
   },
   "outputs": [],
   "source": [
    "rs_decision_factors.groupby([\"Decision Factor\"]).mean().nlargest(3,'Value').index"
   ]
  },
  {
   "cell_type": "code",
   "execution_count": null,
   "metadata": {
    "colab": {
     "base_uri": "https://localhost:8080/",
     "height": 174
    },
    "id": "dcWOAK2XZm4G",
    "outputId": "ba06834f-41fe-4259-8261-93e82b06e0c5",
    "pycharm": {
     "is_executing": true
    }
   },
   "outputs": [],
   "source": [
    "rs_decision_factors.groupby([\"Decision Factor\"]).mean().nsmallest(3,'Value')"
   ]
  },
  {
   "cell_type": "markdown",
   "metadata": {
    "id": "kcGtAcpL3C-j"
   },
   "source": [
    "# Demographics"
   ]
  },
  {
   "cell_type": "code",
   "execution_count": null,
   "metadata": {
    "colab": {
     "background_save": true
    },
    "id": "UWbV0PYvFCNb",
    "pycharm": {
     "is_executing": true
    }
   },
   "outputs": [],
   "source": [
    "df_finished.filter(regex=(\"^DE[0-9]\"))"
   ]
  },
  {
   "cell_type": "code",
   "execution_count": null,
   "metadata": {
    "colab": {
     "base_uri": "https://localhost:8080/"
    },
    "id": "a57VcQMU2-Qp",
    "outputId": "5de806a8-d674-47f4-e134-1350a22226cc",
    "pycharm": {
     "is_executing": true
    }
   },
   "outputs": [],
   "source": [
    "for i in range(2, 10):\n",
    "  print(df_finished.filter(regex=(f\"^DE{i:02d}\")).value_counts())"
   ]
  },
  {
   "cell_type": "markdown",
   "metadata": {
    "id": "VSf2yiF8SF1U"
   },
   "source": [
    "# Experience"
   ]
  },
  {
   "cell_type": "code",
   "execution_count": null,
   "metadata": {
    "id": "ajEY1-s42_RS",
    "pycharm": {
     "is_executing": true
    }
   },
   "outputs": [],
   "source": [
    "experience_map={'<2': 1, '2-4':2, '5-7':3, '8-10':4,'11-15':5, '> 15': 6, 'YearsAIExperience': np.NaN}"
   ]
  },
  {
   "cell_type": "code",
   "execution_count": null,
   "metadata": {
    "colab": {
     "base_uri": "https://localhost:8080/",
     "height": 206
    },
    "id": "wzjlBWe-LfRY",
    "outputId": "b68ead36-2fde-467e-f21b-4e0f9f121331",
    "pycharm": {
     "is_executing": true
    }
   },
   "outputs": [],
   "source": [
    "df_decision_factors.filter(regex=(\"^DE02\")).replace(experience_map).head()"
   ]
  },
  {
   "cell_type": "code",
   "execution_count": null,
   "metadata": {
    "id": "UCNmd0laK-4a",
    "pycharm": {
     "is_executing": true
    }
   },
   "outputs": [],
   "source": [
    "#Join Experience bin of participants on existing decision factor data Frame\n",
    "decision_factor_results_experience=decision_factor_results.join(df_decision_factors.filter(regex=(\"^DE02\")).replace(experience_map), how ='right', on='Participant')"
   ]
  },
  {
   "cell_type": "code",
   "execution_count": null,
   "metadata": {
    "colab": {
     "base_uri": "https://localhost:8080/",
     "height": 206
    },
    "id": "vORC6IDnSOc3",
    "outputId": "bbd6fd85-de13-4984-9959-fc2fddcb9c7e",
    "pycharm": {
     "is_executing": true
    }
   },
   "outputs": [],
   "source": [
    "decision_factor_results_experience=decision_factor_results_experience.dropna(subset=['Question'])\n",
    "decision_factor_results_experience.head()"
   ]
  },
  {
   "cell_type": "code",
   "execution_count": null,
   "metadata": {
    "colab": {
     "base_uri": "https://localhost:8080/",
     "height": 480
    },
    "id": "2RozyQkwORuT",
    "outputId": "f8562735-1630-40d9-dc32-c0b232285967",
    "pycharm": {
     "is_executing": true
    }
   },
   "outputs": [],
   "source": [
    "plt.figure(figsize=(50,20))\n",
    "sns.boxplot(data=decision_factor_results_experience, x=\"Value\", y=\"Decision Factor\", hue='DE02')"
   ]
  },
  {
   "cell_type": "code",
   "execution_count": null,
   "metadata": {
    "colab": {
     "base_uri": "https://localhost:8080/"
    },
    "id": "0Mjvu7VSUzvs",
    "outputId": "07d1ad1e-a4ee-444d-c031-f89492985e09",
    "pycharm": {
     "is_executing": true
    }
   },
   "outputs": [],
   "source": [
    "#Create a bin for the Expirience\n",
    "decision_factor_results_experience['Erfahrung']=pd.cut(decision_factor_results_experience['DE02'], bins=[0,2,6], labels=['Beginner', 'Professional'])\n",
    "decision_factor_results_experience['Erfahrung'].value_counts()"
   ]
  },
  {
   "cell_type": "code",
   "execution_count": null,
   "metadata": {
    "colab": {
     "base_uri": "https://localhost:8080/",
     "height": 206
    },
    "id": "kndsdL6nfM61",
    "outputId": "762d7ebc-ae32-4da8-8a4e-39b982697cb3",
    "pycharm": {
     "is_executing": true
    }
   },
   "outputs": [],
   "source": [
    "# Add Method Labels to the Data Frame\n",
    "df_methods=decision_factor_results_experience.copy()\n",
    "df_methods.loc[df_methods.Question.str.startswith('MT'), 'Method']='Manual Tuning'\n",
    "df_methods.loc[df_methods.Question.str.startswith('BO'), 'Method']='Bayesian Optimization'\n",
    "df_methods.loc[df_methods.Question.str.startswith('GS'), 'Method']='Grid Search'\n",
    "df_methods.loc[df_methods.Question.str.startswith('RS'), 'Method']='Random Search'\n",
    "df_methods.head()"
   ]
  },
  {
   "cell_type": "code",
   "execution_count": null,
   "metadata": {
    "colab": {
     "base_uri": "https://localhost:8080/",
     "height": 283
    },
    "id": "-8qGQ0-HOnGi",
    "outputId": "90d7e625-9b3f-42d7-fddd-ffb695046cfc",
    "pycharm": {
     "is_executing": true
    }
   },
   "outputs": [],
   "source": [
    "plt.figure(figsize=(50,20))\n",
    "sns.catplot(data=decision_factor_results_experience, x=\"Value\", y=\"Decision Factor\", col='DE02', kind='bar')"
   ]
  },
  {
   "cell_type": "code",
   "execution_count": null,
   "metadata": {
    "colab": {
     "base_uri": "https://localhost:8080/",
     "height": 404
    },
    "id": "ySkP61VlWI-T",
    "outputId": "05380521-dd68-4ffe-f798-e4d552e8b3da",
    "pycharm": {
     "is_executing": true
    }
   },
   "outputs": [],
   "source": [
    "plt.figure(figsize=(50,20))\n",
    "sns.catplot(data=decision_factor_results_experience, x=\"Value\", y=\"Decision Factor\", col='Erfahrung', kind='bar')"
   ]
  },
  {
   "cell_type": "code",
   "execution_count": null,
   "metadata": {
    "colab": {
     "base_uri": "https://localhost:8080/",
     "height": 622
    },
    "id": "6oxr2Rd6js_S",
    "outputId": "f43ddf4f-e6c6-4524-f138-4409096b4428",
    "pycharm": {
     "is_executing": true
    }
   },
   "outputs": [],
   "source": [
    "sns.catplot(data=decision_factor_results_experience, x=\"Value\", y=\"Decision Factor\", kind='bar', height=8.27, aspect=11.7/8.27)"
   ]
  },
  {
   "cell_type": "code",
   "execution_count": null,
   "metadata": {
    "colab": {
     "base_uri": "https://localhost:8080/",
     "height": 622
    },
    "id": "uZh1E9HGlQ1a",
    "outputId": "e4c2da13-c183-4869-e865-c0053583ef03",
    "pycharm": {
     "is_executing": true
    }
   },
   "outputs": [],
   "source": [
    "# Shift data around Neutral\n",
    "data_minus=df_methods.copy()\n",
    "data_minus.loc[:,\"Value\"] -= 3\n",
    "sns.catplot(data=data_minus, x=\"Value\", y=\"Decision Factor\", kind='bar', height=8.27, aspect=11.7/8.27)"
   ]
  },
  {
   "cell_type": "code",
   "execution_count": null,
   "metadata": {
    "colab": {
     "base_uri": "https://localhost:8080/",
     "height": 622
    },
    "id": "gkcyMoQoj-sl",
    "outputId": "b02306d8-3072-4b75-8c19-747a64bcf85f",
    "pycharm": {
     "is_executing": true
    }
   },
   "outputs": [],
   "source": [
    "sns.catplot(data=data_minus, x=\"Value\", y=\"Decision Factor\", hue='Method', kind='bar', height=8.27, aspect=11.7/8.27)"
   ]
  },
  {
   "cell_type": "code",
   "execution_count": null,
   "metadata": {
    "colab": {
     "base_uri": "https://localhost:8080/",
     "height": 622
    },
    "id": "tvla_OVHm-06",
    "outputId": "3db4d7e3-41a7-4677-bad2-fff36d732d16",
    "pycharm": {
     "is_executing": true
    }
   },
   "outputs": [],
   "source": [
    "sns.catplot(data=data_minus, x=\"Value\", y=\"Decision Factor\", hue='Method', kind='bar', height=8.27, aspect=11.7/8.27)"
   ]
  },
  {
   "cell_type": "code",
   "execution_count": null,
   "metadata": {
    "colab": {
     "base_uri": "https://localhost:8080/",
     "height": 622
    },
    "id": "WxSYHv9ldntD",
    "outputId": "f3a6dde4-10e3-41eb-8bc5-dcb4a5e199fe",
    "pycharm": {
     "is_executing": true
    }
   },
   "outputs": [],
   "source": [
    "sns.catplot(data=data_minus, x=\"Value\", y=\"Decision Factor\", hue='Erfahrung', kind='bar', height=8.27, aspect=11.7/8.27)"
   ]
  },
  {
   "cell_type": "code",
   "execution_count": null,
   "metadata": {
    "colab": {
     "base_uri": "https://localhost:8080/",
     "height": 235
    },
    "id": "AH9V4tgOeoWl",
    "outputId": "4aca99d7-44ab-49ec-a25f-9c6b500db925",
    "pycharm": {
     "is_executing": true
    }
   },
   "outputs": [],
   "source": [
    "sns.catplot(data=data_minus, x=\"Value\", y=\"Decision Factor\", hue='Erfahrung',col='Method', kind='bar', height=8.27, aspect=11.7/8.27)"
   ]
  },
  {
   "cell_type": "code",
   "execution_count": null,
   "metadata": {
    "colab": {
     "base_uri": "https://localhost:8080/",
     "height": 416
    },
    "id": "BZghkCe7h22b",
    "outputId": "8a086954-ffdb-4063-f0c6-a155efdc4999",
    "pycharm": {
     "is_executing": true
    }
   },
   "outputs": [],
   "source": [
    "sns.catplot(data=data_minus, x=\"Value\", y=\"Decision Factor\", hue='Method',col='Erfahrung', kind='bar', height=8.27, aspect=11.7/8.27)"
   ]
  },
  {
   "cell_type": "code",
   "execution_count": null,
   "metadata": {
    "colab": {
     "base_uri": "https://localhost:8080/",
     "height": 622
    },
    "id": "VmL-NjuZh-_x",
    "outputId": "3cee94d1-7673-4ab1-973f-263875a8be16",
    "pycharm": {
     "is_executing": true
    }
   },
   "outputs": [],
   "source": [
    "sns.catplot(data=data_minus, x=\"Value\", y=\"Decision Factor\", hue='Method', kind='bar', height=8.27, aspect=11.7/8.27)"
   ]
  },
  {
   "cell_type": "code",
   "execution_count": null,
   "metadata": {
    "colab": {
     "base_uri": "https://localhost:8080/",
     "height": 404
    },
    "id": "EujVHU3RXZTg",
    "outputId": "11253327-9882-4181-cf9f-103ca52e1549",
    "pycharm": {
     "is_executing": true
    }
   },
   "outputs": [],
   "source": [
    "plt.figure(figsize=(50,20))\n",
    "sns.catplot(data=decision_factor_results_experience, x=\"Value\", y=\"Question\", col='Erfahrung', kind='bar')"
   ]
  },
  {
   "cell_type": "code",
   "execution_count": null,
   "metadata": {
    "id": "zAFc9ahIhHkm",
    "pycharm": {
     "is_executing": true
    }
   },
   "outputs": [],
   "source": [
    "#g = sns.FacetGrid(decision_factor_results_experience, col=\"Erfahrung\",  row=\"Decision Factor\")\n",
    "#g.map_dataframe(sns.histplot, x=\"Value\")"
   ]
  },
  {
   "cell_type": "markdown",
   "metadata": {
    "id": "aVX-9HbERjMe"
   },
   "source": [
    "# PHD"
   ]
  },
  {
   "cell_type": "code",
   "execution_count": null,
   "metadata": {
    "colab": {
     "base_uri": "https://localhost:8080/",
     "height": 206
    },
    "id": "Hhd7XdpDRHLV",
    "outputId": "f4540eb1-28d7-4cc5-b925-332a5f4167a0",
    "pycharm": {
     "is_executing": true
    }
   },
   "outputs": [],
   "source": [
    "#Add Column for phd\n",
    "phd_series=df_decision_factors.filter(regex=(\"^DE04\")).apply(lambda x: 'PhD' if x[0]=='PhD' else 'No PhD', axis=1) \n",
    "phd_join=pd.DataFrame(phd_series, columns=['PhD'])\n",
    "df_phd=data_minus.join(phd_join , how ='right', on='Participant')\n",
    "df_phd.head()"
   ]
  },
  {
   "cell_type": "code",
   "execution_count": null,
   "metadata": {
    "colab": {
     "base_uri": "https://localhost:8080/",
     "height": 622
    },
    "id": "GY1V4kwgyBjh",
    "outputId": "61e7920f-b87f-4fb0-935a-c2261e731612",
    "pycharm": {
     "is_executing": true
    }
   },
   "outputs": [],
   "source": [
    "sns.catplot(data=df_phd, x=\"Value\", y=\"Decision Factor\", hue='PhD', kind='bar', height=8.27, aspect=11.7/8.27)"
   ]
  }
 ],
 "metadata": {
  "colab": {
   "toc_visible": true,
   "provenance": []
  },
  "kernelspec": {
   "name": "python3",
   "language": "python",
   "display_name": "Python 3 (ipykernel)"
  },
  "language_info": {
   "name": "python"
  }
 },
 "nbformat": 4,
 "nbformat_minor": 0
}
